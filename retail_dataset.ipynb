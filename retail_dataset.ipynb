{
  "nbformat": 4,
  "nbformat_minor": 0,
  "metadata": {
    "kernelspec": {
      "display_name": "Python 3",
      "language": "python",
      "name": "python3"
    },
    "language_info": {
      "codemirror_mode": {
        "name": "ipython",
        "version": 3
      },
      "file_extension": ".py",
      "mimetype": "text/x-python",
      "name": "python",
      "nbconvert_exporter": "python",
      "pygments_lexer": "ipython3",
      "version": "3.7.1"
    },
    "colab": {
      "name": "retail dataset.ipynb",
      "provenance": [],
      "collapsed_sections": []
    }
  },
  "cells": [
    {
      "cell_type": "code",
      "metadata": {
        "id": "7hz2LUNHnBom",
        "colab_type": "code",
        "colab": {}
      },
      "source": [
        "import numpy as np\n",
        "import matplotlib.pyplot as plt\n",
        "import seaborn as sns\n",
        "import pandas as pd\n",
        "import warnings\n",
        "warnings.filterwarnings('ignore')\n",
        "plt.rcParams['figure.figsize'] = (12, 6)"
      ],
      "execution_count": 0,
      "outputs": []
    },
    {
      "cell_type": "code",
      "metadata": {
        "id": "3euJ-6kJnBpB",
        "colab_type": "code",
        "colab": {}
      },
      "source": [
        "os=pd.read_excel('Online_Retail_Subset.xlsx')"
      ],
      "execution_count": 0,
      "outputs": []
    },
    {
      "cell_type": "code",
      "metadata": {
        "id": "M37dQsvcnBpU",
        "colab_type": "code",
        "outputId": "c0bbe45d-a51d-41ff-8eb7-2f36cf5d503f",
        "colab": {}
      },
      "source": [
        "os"
      ],
      "execution_count": 0,
      "outputs": [
        {
          "output_type": "execute_result",
          "data": {
            "text/html": [
              "<div>\n",
              "<style scoped>\n",
              "    .dataframe tbody tr th:only-of-type {\n",
              "        vertical-align: middle;\n",
              "    }\n",
              "\n",
              "    .dataframe tbody tr th {\n",
              "        vertical-align: top;\n",
              "    }\n",
              "\n",
              "    .dataframe thead th {\n",
              "        text-align: right;\n",
              "    }\n",
              "</style>\n",
              "<table border=\"1\" class=\"dataframe\">\n",
              "  <thead>\n",
              "    <tr style=\"text-align: right;\">\n",
              "      <th></th>\n",
              "      <th>InvoiceNo</th>\n",
              "      <th>StockCode</th>\n",
              "      <th>Description</th>\n",
              "      <th>Quantity</th>\n",
              "      <th>InvoiceDate</th>\n",
              "      <th>UnitPrice</th>\n",
              "      <th>CustomerID</th>\n",
              "      <th>Country</th>\n",
              "    </tr>\n",
              "  </thead>\n",
              "  <tbody>\n",
              "    <tr>\n",
              "      <th>0</th>\n",
              "      <td>536365</td>\n",
              "      <td>85123A</td>\n",
              "      <td>WHITE HANGING HEART T-LIGHT HOLDER</td>\n",
              "      <td>6</td>\n",
              "      <td>2010-12-01 08:26:00</td>\n",
              "      <td>2.55</td>\n",
              "      <td>17850.0</td>\n",
              "      <td>United Kingdom</td>\n",
              "    </tr>\n",
              "    <tr>\n",
              "      <th>1</th>\n",
              "      <td>536365</td>\n",
              "      <td>71053</td>\n",
              "      <td>WHITE METAL LANTERN</td>\n",
              "      <td>6</td>\n",
              "      <td>2010-12-01 08:26:00</td>\n",
              "      <td>3.39</td>\n",
              "      <td>17850.0</td>\n",
              "      <td>United Kingdom</td>\n",
              "    </tr>\n",
              "    <tr>\n",
              "      <th>2</th>\n",
              "      <td>536365</td>\n",
              "      <td>84406B</td>\n",
              "      <td>CREAM CUPID HEARTS COAT HANGER</td>\n",
              "      <td>8</td>\n",
              "      <td>2010-12-01 08:26:00</td>\n",
              "      <td>2.75</td>\n",
              "      <td>17850.0</td>\n",
              "      <td>United Kingdom</td>\n",
              "    </tr>\n",
              "    <tr>\n",
              "      <th>3</th>\n",
              "      <td>536365</td>\n",
              "      <td>84029G</td>\n",
              "      <td>KNITTED UNION FLAG HOT WATER BOTTLE</td>\n",
              "      <td>6</td>\n",
              "      <td>2010-12-01 08:26:00</td>\n",
              "      <td>3.39</td>\n",
              "      <td>17850.0</td>\n",
              "      <td>United Kingdom</td>\n",
              "    </tr>\n",
              "    <tr>\n",
              "      <th>4</th>\n",
              "      <td>536365</td>\n",
              "      <td>84029E</td>\n",
              "      <td>RED WOOLLY HOTTIE WHITE HEART.</td>\n",
              "      <td>6</td>\n",
              "      <td>2010-12-01 08:26:00</td>\n",
              "      <td>3.39</td>\n",
              "      <td>17850.0</td>\n",
              "      <td>United Kingdom</td>\n",
              "    </tr>\n",
              "    <tr>\n",
              "      <th>5</th>\n",
              "      <td>536365</td>\n",
              "      <td>22752</td>\n",
              "      <td>SET 7 BABUSHKA NESTING BOXES</td>\n",
              "      <td>2</td>\n",
              "      <td>2010-12-01 08:26:00</td>\n",
              "      <td>7.65</td>\n",
              "      <td>17850.0</td>\n",
              "      <td>United Kingdom</td>\n",
              "    </tr>\n",
              "    <tr>\n",
              "      <th>6</th>\n",
              "      <td>536365</td>\n",
              "      <td>21730</td>\n",
              "      <td>GLASS STAR FROSTED T-LIGHT HOLDER</td>\n",
              "      <td>6</td>\n",
              "      <td>2010-12-01 08:26:00</td>\n",
              "      <td>4.25</td>\n",
              "      <td>17850.0</td>\n",
              "      <td>United Kingdom</td>\n",
              "    </tr>\n",
              "    <tr>\n",
              "      <th>7</th>\n",
              "      <td>536366</td>\n",
              "      <td>22633</td>\n",
              "      <td>HAND WARMER UNION JACK</td>\n",
              "      <td>6</td>\n",
              "      <td>2010-12-01 08:28:00</td>\n",
              "      <td>1.85</td>\n",
              "      <td>17850.0</td>\n",
              "      <td>United Kingdom</td>\n",
              "    </tr>\n",
              "    <tr>\n",
              "      <th>8</th>\n",
              "      <td>536366</td>\n",
              "      <td>22632</td>\n",
              "      <td>HAND WARMER RED POLKA DOT</td>\n",
              "      <td>6</td>\n",
              "      <td>2010-12-01 08:28:00</td>\n",
              "      <td>1.85</td>\n",
              "      <td>17850.0</td>\n",
              "      <td>United Kingdom</td>\n",
              "    </tr>\n",
              "    <tr>\n",
              "      <th>9</th>\n",
              "      <td>536367</td>\n",
              "      <td>84879</td>\n",
              "      <td>ASSORTED COLOUR BIRD ORNAMENT</td>\n",
              "      <td>32</td>\n",
              "      <td>2010-12-01 08:34:00</td>\n",
              "      <td>1.69</td>\n",
              "      <td>13047.0</td>\n",
              "      <td>United Kingdom</td>\n",
              "    </tr>\n",
              "    <tr>\n",
              "      <th>10</th>\n",
              "      <td>536367</td>\n",
              "      <td>22745</td>\n",
              "      <td>POPPY'S PLAYHOUSE BEDROOM</td>\n",
              "      <td>6</td>\n",
              "      <td>2010-12-01 08:34:00</td>\n",
              "      <td>2.10</td>\n",
              "      <td>13047.0</td>\n",
              "      <td>United Kingdom</td>\n",
              "    </tr>\n",
              "    <tr>\n",
              "      <th>11</th>\n",
              "      <td>536367</td>\n",
              "      <td>22748</td>\n",
              "      <td>POPPY'S PLAYHOUSE KITCHEN</td>\n",
              "      <td>6</td>\n",
              "      <td>2010-12-01 08:34:00</td>\n",
              "      <td>2.10</td>\n",
              "      <td>13047.0</td>\n",
              "      <td>United Kingdom</td>\n",
              "    </tr>\n",
              "    <tr>\n",
              "      <th>12</th>\n",
              "      <td>536367</td>\n",
              "      <td>22749</td>\n",
              "      <td>FELTCRAFT PRINCESS CHARLOTTE DOLL</td>\n",
              "      <td>8</td>\n",
              "      <td>2010-12-01 08:34:00</td>\n",
              "      <td>3.75</td>\n",
              "      <td>13047.0</td>\n",
              "      <td>United Kingdom</td>\n",
              "    </tr>\n",
              "    <tr>\n",
              "      <th>13</th>\n",
              "      <td>536367</td>\n",
              "      <td>22310</td>\n",
              "      <td>IVORY KNITTED MUG COSY</td>\n",
              "      <td>6</td>\n",
              "      <td>2010-12-01 08:34:00</td>\n",
              "      <td>1.65</td>\n",
              "      <td>13047.0</td>\n",
              "      <td>United Kingdom</td>\n",
              "    </tr>\n",
              "    <tr>\n",
              "      <th>14</th>\n",
              "      <td>536367</td>\n",
              "      <td>84969</td>\n",
              "      <td>BOX OF 6 ASSORTED COLOUR TEASPOONS</td>\n",
              "      <td>6</td>\n",
              "      <td>2010-12-01 08:34:00</td>\n",
              "      <td>4.25</td>\n",
              "      <td>13047.0</td>\n",
              "      <td>United Kingdom</td>\n",
              "    </tr>\n",
              "    <tr>\n",
              "      <th>15</th>\n",
              "      <td>536367</td>\n",
              "      <td>22623</td>\n",
              "      <td>BOX OF VINTAGE JIGSAW BLOCKS</td>\n",
              "      <td>3</td>\n",
              "      <td>2010-12-01 08:34:00</td>\n",
              "      <td>4.95</td>\n",
              "      <td>13047.0</td>\n",
              "      <td>United Kingdom</td>\n",
              "    </tr>\n",
              "    <tr>\n",
              "      <th>16</th>\n",
              "      <td>536367</td>\n",
              "      <td>22622</td>\n",
              "      <td>BOX OF VINTAGE ALPHABET BLOCKS</td>\n",
              "      <td>2</td>\n",
              "      <td>2010-12-01 08:34:00</td>\n",
              "      <td>9.95</td>\n",
              "      <td>13047.0</td>\n",
              "      <td>United Kingdom</td>\n",
              "    </tr>\n",
              "    <tr>\n",
              "      <th>17</th>\n",
              "      <td>536367</td>\n",
              "      <td>21754</td>\n",
              "      <td>HOME BUILDING BLOCK WORD</td>\n",
              "      <td>3</td>\n",
              "      <td>2010-12-01 08:34:00</td>\n",
              "      <td>5.95</td>\n",
              "      <td>13047.0</td>\n",
              "      <td>United Kingdom</td>\n",
              "    </tr>\n",
              "    <tr>\n",
              "      <th>18</th>\n",
              "      <td>536367</td>\n",
              "      <td>21755</td>\n",
              "      <td>LOVE BUILDING BLOCK WORD</td>\n",
              "      <td>3</td>\n",
              "      <td>2010-12-01 08:34:00</td>\n",
              "      <td>5.95</td>\n",
              "      <td>13047.0</td>\n",
              "      <td>United Kingdom</td>\n",
              "    </tr>\n",
              "    <tr>\n",
              "      <th>19</th>\n",
              "      <td>536367</td>\n",
              "      <td>21777</td>\n",
              "      <td>RECIPE BOX WITH METAL HEART</td>\n",
              "      <td>4</td>\n",
              "      <td>2010-12-01 08:34:00</td>\n",
              "      <td>7.95</td>\n",
              "      <td>13047.0</td>\n",
              "      <td>United Kingdom</td>\n",
              "    </tr>\n",
              "    <tr>\n",
              "      <th>20</th>\n",
              "      <td>536367</td>\n",
              "      <td>48187</td>\n",
              "      <td>DOORMAT NEW ENGLAND</td>\n",
              "      <td>4</td>\n",
              "      <td>2010-12-01 08:34:00</td>\n",
              "      <td>7.95</td>\n",
              "      <td>13047.0</td>\n",
              "      <td>United Kingdom</td>\n",
              "    </tr>\n",
              "    <tr>\n",
              "      <th>21</th>\n",
              "      <td>536368</td>\n",
              "      <td>22960</td>\n",
              "      <td>JAM MAKING SET WITH JARS</td>\n",
              "      <td>6</td>\n",
              "      <td>2010-12-01 08:34:00</td>\n",
              "      <td>4.25</td>\n",
              "      <td>13047.0</td>\n",
              "      <td>United Kingdom</td>\n",
              "    </tr>\n",
              "    <tr>\n",
              "      <th>22</th>\n",
              "      <td>536368</td>\n",
              "      <td>22913</td>\n",
              "      <td>RED COAT RACK PARIS FASHION</td>\n",
              "      <td>3</td>\n",
              "      <td>2010-12-01 08:34:00</td>\n",
              "      <td>4.95</td>\n",
              "      <td>13047.0</td>\n",
              "      <td>United Kingdom</td>\n",
              "    </tr>\n",
              "    <tr>\n",
              "      <th>23</th>\n",
              "      <td>536368</td>\n",
              "      <td>22912</td>\n",
              "      <td>YELLOW COAT RACK PARIS FASHION</td>\n",
              "      <td>3</td>\n",
              "      <td>2010-12-01 08:34:00</td>\n",
              "      <td>4.95</td>\n",
              "      <td>13047.0</td>\n",
              "      <td>United Kingdom</td>\n",
              "    </tr>\n",
              "    <tr>\n",
              "      <th>24</th>\n",
              "      <td>536368</td>\n",
              "      <td>22914</td>\n",
              "      <td>BLUE COAT RACK PARIS FASHION</td>\n",
              "      <td>3</td>\n",
              "      <td>2010-12-01 08:34:00</td>\n",
              "      <td>4.95</td>\n",
              "      <td>13047.0</td>\n",
              "      <td>United Kingdom</td>\n",
              "    </tr>\n",
              "    <tr>\n",
              "      <th>25</th>\n",
              "      <td>536369</td>\n",
              "      <td>21756</td>\n",
              "      <td>BATH BUILDING BLOCK WORD</td>\n",
              "      <td>3</td>\n",
              "      <td>2010-12-01 08:35:00</td>\n",
              "      <td>5.95</td>\n",
              "      <td>13047.0</td>\n",
              "      <td>United Kingdom</td>\n",
              "    </tr>\n",
              "    <tr>\n",
              "      <th>26</th>\n",
              "      <td>536370</td>\n",
              "      <td>22728</td>\n",
              "      <td>ALARM CLOCK BAKELIKE PINK</td>\n",
              "      <td>24</td>\n",
              "      <td>2010-12-01 08:45:00</td>\n",
              "      <td>3.75</td>\n",
              "      <td>12583.0</td>\n",
              "      <td>France</td>\n",
              "    </tr>\n",
              "    <tr>\n",
              "      <th>27</th>\n",
              "      <td>536370</td>\n",
              "      <td>22727</td>\n",
              "      <td>ALARM CLOCK BAKELIKE RED</td>\n",
              "      <td>24</td>\n",
              "      <td>2010-12-01 08:45:00</td>\n",
              "      <td>3.75</td>\n",
              "      <td>12583.0</td>\n",
              "      <td>France</td>\n",
              "    </tr>\n",
              "    <tr>\n",
              "      <th>28</th>\n",
              "      <td>536370</td>\n",
              "      <td>22726</td>\n",
              "      <td>ALARM CLOCK BAKELIKE GREEN</td>\n",
              "      <td>12</td>\n",
              "      <td>2010-12-01 08:45:00</td>\n",
              "      <td>3.75</td>\n",
              "      <td>12583.0</td>\n",
              "      <td>France</td>\n",
              "    </tr>\n",
              "    <tr>\n",
              "      <th>29</th>\n",
              "      <td>536370</td>\n",
              "      <td>21724</td>\n",
              "      <td>PANDA AND BUNNIES STICKER SHEET</td>\n",
              "      <td>12</td>\n",
              "      <td>2010-12-01 08:45:00</td>\n",
              "      <td>0.85</td>\n",
              "      <td>12583.0</td>\n",
              "      <td>France</td>\n",
              "    </tr>\n",
              "    <tr>\n",
              "      <th>...</th>\n",
              "      <td>...</td>\n",
              "      <td>...</td>\n",
              "      <td>...</td>\n",
              "      <td>...</td>\n",
              "      <td>...</td>\n",
              "      <td>...</td>\n",
              "      <td>...</td>\n",
              "      <td>...</td>\n",
              "    </tr>\n",
              "    <tr>\n",
              "      <th>14969</th>\n",
              "      <td>537627</td>\n",
              "      <td>85049A</td>\n",
              "      <td>TRADITIONAL CHRISTMAS RIBBONS</td>\n",
              "      <td>24</td>\n",
              "      <td>2010-12-07 14:58:00</td>\n",
              "      <td>1.25</td>\n",
              "      <td>14739.0</td>\n",
              "      <td>United Kingdom</td>\n",
              "    </tr>\n",
              "    <tr>\n",
              "      <th>14970</th>\n",
              "      <td>537627</td>\n",
              "      <td>22086</td>\n",
              "      <td>PAPER CHAIN KIT 50'S CHRISTMAS</td>\n",
              "      <td>40</td>\n",
              "      <td>2010-12-07 14:58:00</td>\n",
              "      <td>2.55</td>\n",
              "      <td>14739.0</td>\n",
              "      <td>United Kingdom</td>\n",
              "    </tr>\n",
              "    <tr>\n",
              "      <th>14971</th>\n",
              "      <td>537627</td>\n",
              "      <td>22910</td>\n",
              "      <td>PAPER CHAIN KIT VINTAGE CHRISTMAS</td>\n",
              "      <td>40</td>\n",
              "      <td>2010-12-07 14:58:00</td>\n",
              "      <td>2.55</td>\n",
              "      <td>14739.0</td>\n",
              "      <td>United Kingdom</td>\n",
              "    </tr>\n",
              "    <tr>\n",
              "      <th>14972</th>\n",
              "      <td>537627</td>\n",
              "      <td>21187</td>\n",
              "      <td>WHITE BELL HONEYCOMB PAPER GARLAND</td>\n",
              "      <td>48</td>\n",
              "      <td>2010-12-07 14:58:00</td>\n",
              "      <td>1.45</td>\n",
              "      <td>14739.0</td>\n",
              "      <td>United Kingdom</td>\n",
              "    </tr>\n",
              "    <tr>\n",
              "      <th>14973</th>\n",
              "      <td>537627</td>\n",
              "      <td>21916</td>\n",
              "      <td>SET 12 RETRO WHITE CHALK STICKS</td>\n",
              "      <td>24</td>\n",
              "      <td>2010-12-07 14:58:00</td>\n",
              "      <td>0.42</td>\n",
              "      <td>14739.0</td>\n",
              "      <td>United Kingdom</td>\n",
              "    </tr>\n",
              "    <tr>\n",
              "      <th>14974</th>\n",
              "      <td>537627</td>\n",
              "      <td>21704</td>\n",
              "      <td>BAG 250g SWIRLY MARBLES</td>\n",
              "      <td>72</td>\n",
              "      <td>2010-12-07 14:58:00</td>\n",
              "      <td>0.72</td>\n",
              "      <td>14739.0</td>\n",
              "      <td>United Kingdom</td>\n",
              "    </tr>\n",
              "    <tr>\n",
              "      <th>14975</th>\n",
              "      <td>537627</td>\n",
              "      <td>85049C</td>\n",
              "      <td>ROMANTIC PINKS RIBBONS</td>\n",
              "      <td>12</td>\n",
              "      <td>2010-12-07 14:58:00</td>\n",
              "      <td>1.25</td>\n",
              "      <td>14739.0</td>\n",
              "      <td>United Kingdom</td>\n",
              "    </tr>\n",
              "    <tr>\n",
              "      <th>14976</th>\n",
              "      <td>537627</td>\n",
              "      <td>85049D</td>\n",
              "      <td>BRIGHT BLUES RIBBONS</td>\n",
              "      <td>12</td>\n",
              "      <td>2010-12-07 14:58:00</td>\n",
              "      <td>1.25</td>\n",
              "      <td>14739.0</td>\n",
              "      <td>United Kingdom</td>\n",
              "    </tr>\n",
              "    <tr>\n",
              "      <th>14977</th>\n",
              "      <td>537627</td>\n",
              "      <td>85049G</td>\n",
              "      <td>CHOCOLATE BOX RIBBONS</td>\n",
              "      <td>12</td>\n",
              "      <td>2010-12-07 14:58:00</td>\n",
              "      <td>1.25</td>\n",
              "      <td>14739.0</td>\n",
              "      <td>United Kingdom</td>\n",
              "    </tr>\n",
              "    <tr>\n",
              "      <th>14978</th>\n",
              "      <td>537627</td>\n",
              "      <td>21586</td>\n",
              "      <td>KINGS CHOICE GIANT TUBE MATCHES</td>\n",
              "      <td>48</td>\n",
              "      <td>2010-12-07 14:58:00</td>\n",
              "      <td>2.10</td>\n",
              "      <td>14739.0</td>\n",
              "      <td>United Kingdom</td>\n",
              "    </tr>\n",
              "    <tr>\n",
              "      <th>14979</th>\n",
              "      <td>537627</td>\n",
              "      <td>21587</td>\n",
              "      <td>COSY HOUR GIANT TUBE MATCHES</td>\n",
              "      <td>48</td>\n",
              "      <td>2010-12-07 14:58:00</td>\n",
              "      <td>2.10</td>\n",
              "      <td>14739.0</td>\n",
              "      <td>United Kingdom</td>\n",
              "    </tr>\n",
              "    <tr>\n",
              "      <th>14980</th>\n",
              "      <td>537627</td>\n",
              "      <td>22178</td>\n",
              "      <td>VICTORIAN GLASS HANGING T-LIGHT</td>\n",
              "      <td>96</td>\n",
              "      <td>2010-12-07 14:58:00</td>\n",
              "      <td>1.06</td>\n",
              "      <td>14739.0</td>\n",
              "      <td>United Kingdom</td>\n",
              "    </tr>\n",
              "    <tr>\n",
              "      <th>14981</th>\n",
              "      <td>537628</td>\n",
              "      <td>22149</td>\n",
              "      <td>FELTCRAFT 6 FLOWER FRIENDS</td>\n",
              "      <td>6</td>\n",
              "      <td>2010-12-07 15:02:00</td>\n",
              "      <td>2.10</td>\n",
              "      <td>16293.0</td>\n",
              "      <td>United Kingdom</td>\n",
              "    </tr>\n",
              "    <tr>\n",
              "      <th>14982</th>\n",
              "      <td>537628</td>\n",
              "      <td>20972</td>\n",
              "      <td>PINK CREAM FELT CRAFT TRINKET BOX</td>\n",
              "      <td>12</td>\n",
              "      <td>2010-12-07 15:02:00</td>\n",
              "      <td>1.25</td>\n",
              "      <td>16293.0</td>\n",
              "      <td>United Kingdom</td>\n",
              "    </tr>\n",
              "    <tr>\n",
              "      <th>14983</th>\n",
              "      <td>537628</td>\n",
              "      <td>21843</td>\n",
              "      <td>RED RETROSPOT CAKE STAND</td>\n",
              "      <td>1</td>\n",
              "      <td>2010-12-07 15:02:00</td>\n",
              "      <td>10.95</td>\n",
              "      <td>16293.0</td>\n",
              "      <td>United Kingdom</td>\n",
              "    </tr>\n",
              "    <tr>\n",
              "      <th>14984</th>\n",
              "      <td>537628</td>\n",
              "      <td>85066</td>\n",
              "      <td>CREAM SWEETHEART MINI CHEST</td>\n",
              "      <td>2</td>\n",
              "      <td>2010-12-07 15:02:00</td>\n",
              "      <td>12.75</td>\n",
              "      <td>16293.0</td>\n",
              "      <td>United Kingdom</td>\n",
              "    </tr>\n",
              "    <tr>\n",
              "      <th>14985</th>\n",
              "      <td>537628</td>\n",
              "      <td>21755</td>\n",
              "      <td>LOVE BUILDING BLOCK WORD</td>\n",
              "      <td>3</td>\n",
              "      <td>2010-12-07 15:02:00</td>\n",
              "      <td>5.95</td>\n",
              "      <td>16293.0</td>\n",
              "      <td>United Kingdom</td>\n",
              "    </tr>\n",
              "    <tr>\n",
              "      <th>14986</th>\n",
              "      <td>537628</td>\n",
              "      <td>22444</td>\n",
              "      <td>GROW YOUR OWN PLANT IN A CAN</td>\n",
              "      <td>24</td>\n",
              "      <td>2010-12-07 15:02:00</td>\n",
              "      <td>1.25</td>\n",
              "      <td>16293.0</td>\n",
              "      <td>United Kingdom</td>\n",
              "    </tr>\n",
              "    <tr>\n",
              "      <th>14987</th>\n",
              "      <td>537628</td>\n",
              "      <td>20682</td>\n",
              "      <td>RED RETROSPOT CHILDRENS UMBRELLA</td>\n",
              "      <td>6</td>\n",
              "      <td>2010-12-07 15:02:00</td>\n",
              "      <td>3.25</td>\n",
              "      <td>16293.0</td>\n",
              "      <td>United Kingdom</td>\n",
              "    </tr>\n",
              "    <tr>\n",
              "      <th>14988</th>\n",
              "      <td>537628</td>\n",
              "      <td>22299</td>\n",
              "      <td>PIG KEYRING WITH LIGHT &amp; SOUND</td>\n",
              "      <td>24</td>\n",
              "      <td>2010-12-07 15:02:00</td>\n",
              "      <td>1.25</td>\n",
              "      <td>16293.0</td>\n",
              "      <td>United Kingdom</td>\n",
              "    </tr>\n",
              "    <tr>\n",
              "      <th>14989</th>\n",
              "      <td>537628</td>\n",
              "      <td>22834</td>\n",
              "      <td>HAND WARMER BABUSHKA DESIGN</td>\n",
              "      <td>24</td>\n",
              "      <td>2010-12-07 15:02:00</td>\n",
              "      <td>2.10</td>\n",
              "      <td>16293.0</td>\n",
              "      <td>United Kingdom</td>\n",
              "    </tr>\n",
              "    <tr>\n",
              "      <th>14990</th>\n",
              "      <td>537628</td>\n",
              "      <td>22867</td>\n",
              "      <td>HAND WARMER BIRD DESIGN</td>\n",
              "      <td>24</td>\n",
              "      <td>2010-12-07 15:02:00</td>\n",
              "      <td>2.10</td>\n",
              "      <td>16293.0</td>\n",
              "      <td>United Kingdom</td>\n",
              "    </tr>\n",
              "    <tr>\n",
              "      <th>14991</th>\n",
              "      <td>537628</td>\n",
              "      <td>21908</td>\n",
              "      <td>CHOCOLATE THIS WAY METAL SIGN</td>\n",
              "      <td>12</td>\n",
              "      <td>2010-12-07 15:02:00</td>\n",
              "      <td>2.10</td>\n",
              "      <td>16293.0</td>\n",
              "      <td>United Kingdom</td>\n",
              "    </tr>\n",
              "    <tr>\n",
              "      <th>14992</th>\n",
              "      <td>537628</td>\n",
              "      <td>21175</td>\n",
              "      <td>GIN + TONIC DIET METAL SIGN</td>\n",
              "      <td>12</td>\n",
              "      <td>2010-12-07 15:02:00</td>\n",
              "      <td>2.10</td>\n",
              "      <td>16293.0</td>\n",
              "      <td>United Kingdom</td>\n",
              "    </tr>\n",
              "    <tr>\n",
              "      <th>14993</th>\n",
              "      <td>537628</td>\n",
              "      <td>84945</td>\n",
              "      <td>MULTI COLOUR SILVER T-LIGHT HOLDER</td>\n",
              "      <td>12</td>\n",
              "      <td>2010-12-07 15:02:00</td>\n",
              "      <td>0.85</td>\n",
              "      <td>16293.0</td>\n",
              "      <td>United Kingdom</td>\n",
              "    </tr>\n",
              "    <tr>\n",
              "      <th>14994</th>\n",
              "      <td>537628</td>\n",
              "      <td>22804</td>\n",
              "      <td>CANDLEHOLDER PINK HANGING HEART</td>\n",
              "      <td>6</td>\n",
              "      <td>2010-12-07 15:02:00</td>\n",
              "      <td>2.95</td>\n",
              "      <td>16293.0</td>\n",
              "      <td>United Kingdom</td>\n",
              "    </tr>\n",
              "    <tr>\n",
              "      <th>14995</th>\n",
              "      <td>537628</td>\n",
              "      <td>72349B</td>\n",
              "      <td>SET/6 PURPLE BUTTERFLY T-LIGHTS</td>\n",
              "      <td>12</td>\n",
              "      <td>2010-12-07 15:02:00</td>\n",
              "      <td>2.10</td>\n",
              "      <td>16293.0</td>\n",
              "      <td>United Kingdom</td>\n",
              "    </tr>\n",
              "    <tr>\n",
              "      <th>14996</th>\n",
              "      <td>537628</td>\n",
              "      <td>72741</td>\n",
              "      <td>GRAND CHOCOLATECANDLE</td>\n",
              "      <td>9</td>\n",
              "      <td>2010-12-07 15:02:00</td>\n",
              "      <td>1.45</td>\n",
              "      <td>16293.0</td>\n",
              "      <td>United Kingdom</td>\n",
              "    </tr>\n",
              "    <tr>\n",
              "      <th>14997</th>\n",
              "      <td>537629</td>\n",
              "      <td>22762</td>\n",
              "      <td>CUPBOARD 3 DRAWER MA CAMPAGNE</td>\n",
              "      <td>1</td>\n",
              "      <td>2010-12-07 15:03:00</td>\n",
              "      <td>14.95</td>\n",
              "      <td>17419.0</td>\n",
              "      <td>United Kingdom</td>\n",
              "    </tr>\n",
              "    <tr>\n",
              "      <th>14998</th>\n",
              "      <td>537629</td>\n",
              "      <td>21773</td>\n",
              "      <td>DECORATIVE ROSE BATHROOM BOTTLE</td>\n",
              "      <td>12</td>\n",
              "      <td>2010-12-07 15:03:00</td>\n",
              "      <td>1.25</td>\n",
              "      <td>17419.0</td>\n",
              "      <td>United Kingdom</td>\n",
              "    </tr>\n",
              "  </tbody>\n",
              "</table>\n",
              "<p>14999 rows × 8 columns</p>\n",
              "</div>"
            ],
            "text/plain": [
              "      InvoiceNo StockCode                          Description  Quantity  \\\n",
              "0        536365    85123A   WHITE HANGING HEART T-LIGHT HOLDER         6   \n",
              "1        536365     71053                  WHITE METAL LANTERN         6   \n",
              "2        536365    84406B       CREAM CUPID HEARTS COAT HANGER         8   \n",
              "3        536365    84029G  KNITTED UNION FLAG HOT WATER BOTTLE         6   \n",
              "4        536365    84029E       RED WOOLLY HOTTIE WHITE HEART.         6   \n",
              "5        536365     22752         SET 7 BABUSHKA NESTING BOXES         2   \n",
              "6        536365     21730    GLASS STAR FROSTED T-LIGHT HOLDER         6   \n",
              "7        536366     22633               HAND WARMER UNION JACK         6   \n",
              "8        536366     22632            HAND WARMER RED POLKA DOT         6   \n",
              "9        536367     84879        ASSORTED COLOUR BIRD ORNAMENT        32   \n",
              "10       536367     22745           POPPY'S PLAYHOUSE BEDROOM          6   \n",
              "11       536367     22748            POPPY'S PLAYHOUSE KITCHEN         6   \n",
              "12       536367     22749    FELTCRAFT PRINCESS CHARLOTTE DOLL         8   \n",
              "13       536367     22310              IVORY KNITTED MUG COSY          6   \n",
              "14       536367     84969   BOX OF 6 ASSORTED COLOUR TEASPOONS         6   \n",
              "15       536367     22623        BOX OF VINTAGE JIGSAW BLOCKS          3   \n",
              "16       536367     22622       BOX OF VINTAGE ALPHABET BLOCKS         2   \n",
              "17       536367     21754             HOME BUILDING BLOCK WORD         3   \n",
              "18       536367     21755             LOVE BUILDING BLOCK WORD         3   \n",
              "19       536367     21777          RECIPE BOX WITH METAL HEART         4   \n",
              "20       536367     48187                  DOORMAT NEW ENGLAND         4   \n",
              "21       536368     22960             JAM MAKING SET WITH JARS         6   \n",
              "22       536368     22913          RED COAT RACK PARIS FASHION         3   \n",
              "23       536368     22912       YELLOW COAT RACK PARIS FASHION         3   \n",
              "24       536368     22914         BLUE COAT RACK PARIS FASHION         3   \n",
              "25       536369     21756             BATH BUILDING BLOCK WORD         3   \n",
              "26       536370     22728            ALARM CLOCK BAKELIKE PINK        24   \n",
              "27       536370     22727            ALARM CLOCK BAKELIKE RED         24   \n",
              "28       536370     22726           ALARM CLOCK BAKELIKE GREEN        12   \n",
              "29       536370     21724      PANDA AND BUNNIES STICKER SHEET        12   \n",
              "...         ...       ...                                  ...       ...   \n",
              "14969    537627    85049A        TRADITIONAL CHRISTMAS RIBBONS        24   \n",
              "14970    537627     22086      PAPER CHAIN KIT 50'S CHRISTMAS         40   \n",
              "14971    537627     22910    PAPER CHAIN KIT VINTAGE CHRISTMAS        40   \n",
              "14972    537627     21187  WHITE BELL HONEYCOMB PAPER GARLAND         48   \n",
              "14973    537627     21916      SET 12 RETRO WHITE CHALK STICKS        24   \n",
              "14974    537627     21704              BAG 250g SWIRLY MARBLES        72   \n",
              "14975    537627    85049C              ROMANTIC PINKS RIBBONS         12   \n",
              "14976    537627    85049D                BRIGHT BLUES RIBBONS         12   \n",
              "14977    537627    85049G               CHOCOLATE BOX RIBBONS         12   \n",
              "14978    537627     21586      KINGS CHOICE GIANT TUBE MATCHES        48   \n",
              "14979    537627     21587         COSY HOUR GIANT TUBE MATCHES        48   \n",
              "14980    537627     22178      VICTORIAN GLASS HANGING T-LIGHT        96   \n",
              "14981    537628     22149           FELTCRAFT 6 FLOWER FRIENDS         6   \n",
              "14982    537628     20972   PINK CREAM FELT CRAFT TRINKET BOX         12   \n",
              "14983    537628     21843             RED RETROSPOT CAKE STAND         1   \n",
              "14984    537628     85066          CREAM SWEETHEART MINI CHEST         2   \n",
              "14985    537628     21755             LOVE BUILDING BLOCK WORD         3   \n",
              "14986    537628     22444        GROW YOUR OWN PLANT IN A CAN         24   \n",
              "14987    537628     20682     RED RETROSPOT CHILDRENS UMBRELLA         6   \n",
              "14988    537628     22299      PIG KEYRING WITH LIGHT & SOUND         24   \n",
              "14989    537628     22834          HAND WARMER BABUSHKA DESIGN        24   \n",
              "14990    537628     22867              HAND WARMER BIRD DESIGN        24   \n",
              "14991    537628     21908        CHOCOLATE THIS WAY METAL SIGN        12   \n",
              "14992    537628     21175          GIN + TONIC DIET METAL SIGN        12   \n",
              "14993    537628     84945   MULTI COLOUR SILVER T-LIGHT HOLDER        12   \n",
              "14994    537628     22804      CANDLEHOLDER PINK HANGING HEART         6   \n",
              "14995    537628    72349B      SET/6 PURPLE BUTTERFLY T-LIGHTS        12   \n",
              "14996    537628     72741                GRAND CHOCOLATECANDLE         9   \n",
              "14997    537629     22762        CUPBOARD 3 DRAWER MA CAMPAGNE         1   \n",
              "14998    537629     21773      DECORATIVE ROSE BATHROOM BOTTLE        12   \n",
              "\n",
              "              InvoiceDate  UnitPrice  CustomerID         Country  \n",
              "0     2010-12-01 08:26:00       2.55     17850.0  United Kingdom  \n",
              "1     2010-12-01 08:26:00       3.39     17850.0  United Kingdom  \n",
              "2     2010-12-01 08:26:00       2.75     17850.0  United Kingdom  \n",
              "3     2010-12-01 08:26:00       3.39     17850.0  United Kingdom  \n",
              "4     2010-12-01 08:26:00       3.39     17850.0  United Kingdom  \n",
              "5     2010-12-01 08:26:00       7.65     17850.0  United Kingdom  \n",
              "6     2010-12-01 08:26:00       4.25     17850.0  United Kingdom  \n",
              "7     2010-12-01 08:28:00       1.85     17850.0  United Kingdom  \n",
              "8     2010-12-01 08:28:00       1.85     17850.0  United Kingdom  \n",
              "9     2010-12-01 08:34:00       1.69     13047.0  United Kingdom  \n",
              "10    2010-12-01 08:34:00       2.10     13047.0  United Kingdom  \n",
              "11    2010-12-01 08:34:00       2.10     13047.0  United Kingdom  \n",
              "12    2010-12-01 08:34:00       3.75     13047.0  United Kingdom  \n",
              "13    2010-12-01 08:34:00       1.65     13047.0  United Kingdom  \n",
              "14    2010-12-01 08:34:00       4.25     13047.0  United Kingdom  \n",
              "15    2010-12-01 08:34:00       4.95     13047.0  United Kingdom  \n",
              "16    2010-12-01 08:34:00       9.95     13047.0  United Kingdom  \n",
              "17    2010-12-01 08:34:00       5.95     13047.0  United Kingdom  \n",
              "18    2010-12-01 08:34:00       5.95     13047.0  United Kingdom  \n",
              "19    2010-12-01 08:34:00       7.95     13047.0  United Kingdom  \n",
              "20    2010-12-01 08:34:00       7.95     13047.0  United Kingdom  \n",
              "21    2010-12-01 08:34:00       4.25     13047.0  United Kingdom  \n",
              "22    2010-12-01 08:34:00       4.95     13047.0  United Kingdom  \n",
              "23    2010-12-01 08:34:00       4.95     13047.0  United Kingdom  \n",
              "24    2010-12-01 08:34:00       4.95     13047.0  United Kingdom  \n",
              "25    2010-12-01 08:35:00       5.95     13047.0  United Kingdom  \n",
              "26    2010-12-01 08:45:00       3.75     12583.0          France  \n",
              "27    2010-12-01 08:45:00       3.75     12583.0          France  \n",
              "28    2010-12-01 08:45:00       3.75     12583.0          France  \n",
              "29    2010-12-01 08:45:00       0.85     12583.0          France  \n",
              "...                   ...        ...         ...             ...  \n",
              "14969 2010-12-07 14:58:00       1.25     14739.0  United Kingdom  \n",
              "14970 2010-12-07 14:58:00       2.55     14739.0  United Kingdom  \n",
              "14971 2010-12-07 14:58:00       2.55     14739.0  United Kingdom  \n",
              "14972 2010-12-07 14:58:00       1.45     14739.0  United Kingdom  \n",
              "14973 2010-12-07 14:58:00       0.42     14739.0  United Kingdom  \n",
              "14974 2010-12-07 14:58:00       0.72     14739.0  United Kingdom  \n",
              "14975 2010-12-07 14:58:00       1.25     14739.0  United Kingdom  \n",
              "14976 2010-12-07 14:58:00       1.25     14739.0  United Kingdom  \n",
              "14977 2010-12-07 14:58:00       1.25     14739.0  United Kingdom  \n",
              "14978 2010-12-07 14:58:00       2.10     14739.0  United Kingdom  \n",
              "14979 2010-12-07 14:58:00       2.10     14739.0  United Kingdom  \n",
              "14980 2010-12-07 14:58:00       1.06     14739.0  United Kingdom  \n",
              "14981 2010-12-07 15:02:00       2.10     16293.0  United Kingdom  \n",
              "14982 2010-12-07 15:02:00       1.25     16293.0  United Kingdom  \n",
              "14983 2010-12-07 15:02:00      10.95     16293.0  United Kingdom  \n",
              "14984 2010-12-07 15:02:00      12.75     16293.0  United Kingdom  \n",
              "14985 2010-12-07 15:02:00       5.95     16293.0  United Kingdom  \n",
              "14986 2010-12-07 15:02:00       1.25     16293.0  United Kingdom  \n",
              "14987 2010-12-07 15:02:00       3.25     16293.0  United Kingdom  \n",
              "14988 2010-12-07 15:02:00       1.25     16293.0  United Kingdom  \n",
              "14989 2010-12-07 15:02:00       2.10     16293.0  United Kingdom  \n",
              "14990 2010-12-07 15:02:00       2.10     16293.0  United Kingdom  \n",
              "14991 2010-12-07 15:02:00       2.10     16293.0  United Kingdom  \n",
              "14992 2010-12-07 15:02:00       2.10     16293.0  United Kingdom  \n",
              "14993 2010-12-07 15:02:00       0.85     16293.0  United Kingdom  \n",
              "14994 2010-12-07 15:02:00       2.95     16293.0  United Kingdom  \n",
              "14995 2010-12-07 15:02:00       2.10     16293.0  United Kingdom  \n",
              "14996 2010-12-07 15:02:00       1.45     16293.0  United Kingdom  \n",
              "14997 2010-12-07 15:03:00      14.95     17419.0  United Kingdom  \n",
              "14998 2010-12-07 15:03:00       1.25     17419.0  United Kingdom  \n",
              "\n",
              "[14999 rows x 8 columns]"
            ]
          },
          "metadata": {
            "tags": []
          },
          "execution_count": 59
        }
      ]
    },
    {
      "cell_type": "code",
      "metadata": {
        "id": "7nrPAasKnBp4",
        "colab_type": "code",
        "colab": {}
      },
      "source": [
        "#sns.countplot(os['Country'],hue=os['CustomerID'])"
      ],
      "execution_count": 0,
      "outputs": []
    },
    {
      "cell_type": "code",
      "metadata": {
        "id": "hWzfpZNZnBqO",
        "colab_type": "code",
        "outputId": "e331a301-69b9-404d-dd5d-699a261ef301",
        "colab": {}
      },
      "source": [
        "os.describe().T"
      ],
      "execution_count": 0,
      "outputs": [
        {
          "output_type": "execute_result",
          "data": {
            "text/html": [
              "<div>\n",
              "<style scoped>\n",
              "    .dataframe tbody tr th:only-of-type {\n",
              "        vertical-align: middle;\n",
              "    }\n",
              "\n",
              "    .dataframe tbody tr th {\n",
              "        vertical-align: top;\n",
              "    }\n",
              "\n",
              "    .dataframe thead th {\n",
              "        text-align: right;\n",
              "    }\n",
              "</style>\n",
              "<table border=\"1\" class=\"dataframe\">\n",
              "  <thead>\n",
              "    <tr style=\"text-align: right;\">\n",
              "      <th></th>\n",
              "      <th>count</th>\n",
              "      <th>mean</th>\n",
              "      <th>std</th>\n",
              "      <th>min</th>\n",
              "      <th>25%</th>\n",
              "      <th>50%</th>\n",
              "      <th>75%</th>\n",
              "      <th>max</th>\n",
              "    </tr>\n",
              "  </thead>\n",
              "  <tbody>\n",
              "    <tr>\n",
              "      <th>Quantity</th>\n",
              "      <td>14999.0</td>\n",
              "      <td>7.464098</td>\n",
              "      <td>85.930115</td>\n",
              "      <td>-9360.0</td>\n",
              "      <td>1.00</td>\n",
              "      <td>2.00</td>\n",
              "      <td>7.00</td>\n",
              "      <td>2880.00</td>\n",
              "    </tr>\n",
              "    <tr>\n",
              "      <th>UnitPrice</th>\n",
              "      <td>14999.0</td>\n",
              "      <td>4.103366</td>\n",
              "      <td>20.106207</td>\n",
              "      <td>0.0</td>\n",
              "      <td>1.25</td>\n",
              "      <td>2.51</td>\n",
              "      <td>4.21</td>\n",
              "      <td>950.99</td>\n",
              "    </tr>\n",
              "    <tr>\n",
              "      <th>CustomerID</th>\n",
              "      <td>10728.0</td>\n",
              "      <td>15590.606264</td>\n",
              "      <td>1764.101280</td>\n",
              "      <td>12347.0</td>\n",
              "      <td>14213.00</td>\n",
              "      <td>15658.00</td>\n",
              "      <td>17218.00</td>\n",
              "      <td>18239.00</td>\n",
              "    </tr>\n",
              "  </tbody>\n",
              "</table>\n",
              "</div>"
            ],
            "text/plain": [
              "              count          mean          std      min       25%       50%  \\\n",
              "Quantity    14999.0      7.464098    85.930115  -9360.0      1.00      2.00   \n",
              "UnitPrice   14999.0      4.103366    20.106207      0.0      1.25      2.51   \n",
              "CustomerID  10728.0  15590.606264  1764.101280  12347.0  14213.00  15658.00   \n",
              "\n",
              "                 75%       max  \n",
              "Quantity        7.00   2880.00  \n",
              "UnitPrice       4.21    950.99  \n",
              "CustomerID  17218.00  18239.00  "
            ]
          },
          "metadata": {
            "tags": []
          },
          "execution_count": 61
        }
      ]
    },
    {
      "cell_type": "code",
      "metadata": {
        "id": "15xpqfIUnBqi",
        "colab_type": "code",
        "outputId": "30a04046-4d90-4665-bf51-6625ecbd7db5",
        "colab": {}
      },
      "source": [
        "os.isnull().sum()"
      ],
      "execution_count": 0,
      "outputs": [
        {
          "output_type": "execute_result",
          "data": {
            "text/plain": [
              "InvoiceNo         0\n",
              "StockCode         0\n",
              "Description      60\n",
              "Quantity          0\n",
              "InvoiceDate       0\n",
              "UnitPrice         0\n",
              "CustomerID     4271\n",
              "Country           0\n",
              "dtype: int64"
            ]
          },
          "metadata": {
            "tags": []
          },
          "execution_count": 62
        }
      ]
    },
    {
      "cell_type": "code",
      "metadata": {
        "id": "tAo8JkstnBq-",
        "colab_type": "code",
        "colab": {}
      },
      "source": [
        "group_data=os[['Country','CustomerID']].groupby(by=['Country','CustomerID']).size().unstack().reset_index()"
      ],
      "execution_count": 0,
      "outputs": []
    },
    {
      "cell_type": "code",
      "metadata": {
        "id": "Q7jVABOsnBrE",
        "colab_type": "code",
        "colab": {}
      },
      "source": [
        ""
      ],
      "execution_count": 0,
      "outputs": []
    },
    {
      "cell_type": "code",
      "metadata": {
        "id": "buriyNV5nBrI",
        "colab_type": "code",
        "colab": {}
      },
      "source": [
        "import matplotlib.cm as cm\n",
        "#group_data.plot(x='Country',kind='bar',stacked=True,colormap=cm.rainbow,figsize=(20,20))"
      ],
      "execution_count": 0,
      "outputs": []
    },
    {
      "cell_type": "code",
      "metadata": {
        "id": "lNcjjsGcnBrL",
        "colab_type": "code",
        "colab": {}
      },
      "source": [
        "os['CustomerID']=os['CustomerID'].fillna(os['CustomerID'].mode()[0])"
      ],
      "execution_count": 0,
      "outputs": []
    },
    {
      "cell_type": "code",
      "metadata": {
        "id": "2fvGeSs7nBrL",
        "colab_type": "code",
        "colab": {}
      },
      "source": [
        "os['Description']=os['Description'].fillna(os['Description'].mode()[0])"
      ],
      "execution_count": 0,
      "outputs": []
    },
    {
      "cell_type": "code",
      "metadata": {
        "id": "T9LxaS2znBrY",
        "colab_type": "code",
        "outputId": "37f972c3-feb7-4100-b5e0-0f28c1292731",
        "colab": {}
      },
      "source": [
        "os.isnull().sum()"
      ],
      "execution_count": 0,
      "outputs": [
        {
          "output_type": "execute_result",
          "data": {
            "text/plain": [
              "InvoiceNo      0\n",
              "StockCode      0\n",
              "Description    0\n",
              "Quantity       0\n",
              "InvoiceDate    0\n",
              "UnitPrice      0\n",
              "CustomerID     0\n",
              "Country        0\n",
              "dtype: int64"
            ]
          },
          "metadata": {
            "tags": []
          },
          "execution_count": 67
        }
      ]
    },
    {
      "cell_type": "code",
      "metadata": {
        "id": "QI_Mlk5dnBrd",
        "colab_type": "code",
        "colab": {}
      },
      "source": [
        "#os.where(os=='c').count()"
      ],
      "execution_count": 0,
      "outputs": []
    },
    {
      "cell_type": "code",
      "metadata": {
        "id": "LFZCpsaEnBrk",
        "colab_type": "code",
        "outputId": "053a077c-bc08-45c0-b652-e65f5e0f6965",
        "colab": {}
      },
      "source": [
        "for i in list(os.columns):\n",
        "    if os[i].dtype in ['int64','float64']:\n",
        "        plt.boxplot(os[i])\n",
        "        plt.xlabel(i)\n",
        "        plt.show()"
      ],
      "execution_count": 0,
      "outputs": [
        {
          "output_type": "display_data",
          "data": {
            "image/png": "[encoded data removed]",
            "text/plain": [
              "<Figure size 864x432 with 1 Axes>"
            ]
          },
          "metadata": {
            "tags": []
          }
        },
        {
          "output_type": "display_data",
          "data": {
            "image/png": "[encoded data removed]",
            "text/plain": [
              "<Figure size 864x432 with 1 Axes>"
            ]
          },
          "metadata": {
            "tags": []
          }
        },
        {
          "output_type": "display_data",
          "data": {
            "image/png": "[encoded data removed]",
            "text/plain": [
              "<Figure size 864x432 with 1 Axes>"
            ]
          },
          "metadata": {
            "tags": []
          }
        }
      ]
    },
    {
      "cell_type": "code",
      "metadata": {
        "id": "PWeFrVwenBro",
        "colab_type": "code",
        "colab": {}
      },
      "source": [
        "os['InvoiceNo']=os['InvoiceNo'].replace(to_replace='C',value='',regex=True)\n",
        "    "
      ],
      "execution_count": 0,
      "outputs": []
    },
    {
      "cell_type": "code",
      "metadata": {
        "id": "4ZMk54DmnBrs",
        "colab_type": "code",
        "outputId": "992b932c-0a97-4222-a31f-408f7f77c3a3",
        "colab": {}
      },
      "source": [
        "os['InvoiceNo'].head(145)"
      ],
      "execution_count": 0,
      "outputs": [
        {
          "output_type": "execute_result",
          "data": {
            "text/plain": [
              "0      536365\n",
              "1      536365\n",
              "2      536365\n",
              "3      536365\n",
              "4      536365\n",
              "5      536365\n",
              "6      536365\n",
              "7      536366\n",
              "8      536366\n",
              "9      536367\n",
              "10     536367\n",
              "11     536367\n",
              "12     536367\n",
              "13     536367\n",
              "14     536367\n",
              "15     536367\n",
              "16     536367\n",
              "17     536367\n",
              "18     536367\n",
              "19     536367\n",
              "20     536367\n",
              "21     536368\n",
              "22     536368\n",
              "23     536368\n",
              "24     536368\n",
              "25     536369\n",
              "26     536370\n",
              "27     536370\n",
              "28     536370\n",
              "29     536370\n",
              "        ...  \n",
              "115    536381\n",
              "116    536381\n",
              "117    536381\n",
              "118    536381\n",
              "119    536381\n",
              "120    536381\n",
              "121    536381\n",
              "122    536381\n",
              "123    536381\n",
              "124    536381\n",
              "125    536381\n",
              "126    536381\n",
              "127    536381\n",
              "128    536381\n",
              "129    536381\n",
              "130    536381\n",
              "131    536381\n",
              "132    536381\n",
              "133    536381\n",
              "134    536381\n",
              "135    536381\n",
              "136    536381\n",
              "137    536381\n",
              "138    536381\n",
              "139    536381\n",
              "140    536381\n",
              "141    536379\n",
              "142    536382\n",
              "143    536382\n",
              "144    536382\n",
              "Name: InvoiceNo, Length: 145, dtype: object"
            ]
          },
          "metadata": {
            "tags": []
          },
          "execution_count": 71
        }
      ]
    },
    {
      "cell_type": "code",
      "metadata": {
        "id": "wq1oh43PnBr1",
        "colab_type": "code",
        "colab": {}
      },
      "source": [
        "os['Quantity']=os['Quantity'].abs()"
      ],
      "execution_count": 0,
      "outputs": []
    },
    {
      "cell_type": "code",
      "metadata": {
        "id": "-SfKewSBnBr3",
        "colab_type": "code",
        "outputId": "26afbf1d-f069-4b51-8594-c99cf22e4ebd",
        "colab": {}
      },
      "source": [
        "os.describe()"
      ],
      "execution_count": 0,
      "outputs": [
        {
          "output_type": "execute_result",
          "data": {
            "text/html": [
              "<div>\n",
              "<style scoped>\n",
              "    .dataframe tbody tr th:only-of-type {\n",
              "        vertical-align: middle;\n",
              "    }\n",
              "\n",
              "    .dataframe tbody tr th {\n",
              "        vertical-align: top;\n",
              "    }\n",
              "\n",
              "    .dataframe thead th {\n",
              "        text-align: right;\n",
              "    }\n",
              "</style>\n",
              "<table border=\"1\" class=\"dataframe\">\n",
              "  <thead>\n",
              "    <tr style=\"text-align: right;\">\n",
              "      <th></th>\n",
              "      <th>Quantity</th>\n",
              "      <th>UnitPrice</th>\n",
              "      <th>CustomerID</th>\n",
              "    </tr>\n",
              "  </thead>\n",
              "  <tbody>\n",
              "    <tr>\n",
              "      <th>count</th>\n",
              "      <td>14999.000000</td>\n",
              "      <td>14999.000000</td>\n",
              "      <td>14999.000000</td>\n",
              "    </tr>\n",
              "    <tr>\n",
              "      <th>mean</th>\n",
              "      <td>9.210881</td>\n",
              "      <td>4.103366</td>\n",
              "      <td>14781.167545</td>\n",
              "    </tr>\n",
              "    <tr>\n",
              "      <th>std</th>\n",
              "      <td>85.760452</td>\n",
              "      <td>20.106207</td>\n",
              "      <td>1967.654469</td>\n",
              "    </tr>\n",
              "    <tr>\n",
              "      <th>min</th>\n",
              "      <td>1.000000</td>\n",
              "      <td>0.000000</td>\n",
              "      <td>12347.000000</td>\n",
              "    </tr>\n",
              "    <tr>\n",
              "      <th>25%</th>\n",
              "      <td>1.000000</td>\n",
              "      <td>1.250000</td>\n",
              "      <td>12748.000000</td>\n",
              "    </tr>\n",
              "    <tr>\n",
              "      <th>50%</th>\n",
              "      <td>2.000000</td>\n",
              "      <td>2.510000</td>\n",
              "      <td>14606.000000</td>\n",
              "    </tr>\n",
              "    <tr>\n",
              "      <th>75%</th>\n",
              "      <td>7.000000</td>\n",
              "      <td>4.210000</td>\n",
              "      <td>16646.000000</td>\n",
              "    </tr>\n",
              "    <tr>\n",
              "      <th>max</th>\n",
              "      <td>9360.000000</td>\n",
              "      <td>950.990000</td>\n",
              "      <td>18239.000000</td>\n",
              "    </tr>\n",
              "  </tbody>\n",
              "</table>\n",
              "</div>"
            ],
            "text/plain": [
              "           Quantity     UnitPrice    CustomerID\n",
              "count  14999.000000  14999.000000  14999.000000\n",
              "mean       9.210881      4.103366  14781.167545\n",
              "std       85.760452     20.106207   1967.654469\n",
              "min        1.000000      0.000000  12347.000000\n",
              "25%        1.000000      1.250000  12748.000000\n",
              "50%        2.000000      2.510000  14606.000000\n",
              "75%        7.000000      4.210000  16646.000000\n",
              "max     9360.000000    950.990000  18239.000000"
            ]
          },
          "metadata": {
            "tags": []
          },
          "execution_count": 73
        }
      ]
    },
    {
      "cell_type": "code",
      "metadata": {
        "id": "uzjju28tnBr7",
        "colab_type": "code",
        "outputId": "bc2165fd-dfae-4c98-e343-19fe7645b7c9",
        "colab": {}
      },
      "source": [
        "os.where(os==0).count()"
      ],
      "execution_count": 0,
      "outputs": [
        {
          "output_type": "execute_result",
          "data": {
            "text/plain": [
              "InvoiceNo        0\n",
              "StockCode        0\n",
              "Description      0\n",
              "Quantity         0\n",
              "InvoiceDate      0\n",
              "UnitPrice      124\n",
              "CustomerID       0\n",
              "Country          0\n",
              "dtype: int64"
            ]
          },
          "metadata": {
            "tags": []
          },
          "execution_count": 74
        }
      ]
    },
    {
      "cell_type": "code",
      "metadata": {
        "id": "sM95Hjc3nBr_",
        "colab_type": "code",
        "colab": {}
      },
      "source": [
        "os['UnitPrice']=os['UnitPrice'].replace(to_replace=0,value=np.nan)\n",
        "    "
      ],
      "execution_count": 0,
      "outputs": []
    },
    {
      "cell_type": "code",
      "metadata": {
        "id": "zsiMoH05nBsM",
        "colab_type": "code",
        "outputId": "34f37c3c-e462-4c76-aa28-35fdc140f6ce",
        "colab": {}
      },
      "source": [
        "os.isnull().sum()\n"
      ],
      "execution_count": 0,
      "outputs": [
        {
          "output_type": "execute_result",
          "data": {
            "text/plain": [
              "InvoiceNo        0\n",
              "StockCode        0\n",
              "Description      0\n",
              "Quantity         0\n",
              "InvoiceDate      0\n",
              "UnitPrice      124\n",
              "CustomerID       0\n",
              "Country          0\n",
              "dtype: int64"
            ]
          },
          "metadata": {
            "tags": []
          },
          "execution_count": 76
        }
      ]
    },
    {
      "cell_type": "code",
      "metadata": {
        "id": "NO637LebnBsQ",
        "colab_type": "code",
        "colab": {}
      },
      "source": [
        "os=os.dropna()"
      ],
      "execution_count": 0,
      "outputs": []
    },
    {
      "cell_type": "code",
      "metadata": {
        "id": "oUGK66nynBse",
        "colab_type": "code",
        "outputId": "f6518b9b-27fc-4470-ed4e-530a609915d4",
        "colab": {}
      },
      "source": [
        "os.info()"
      ],
      "execution_count": 0,
      "outputs": [
        {
          "output_type": "stream",
          "text": [
            "<class 'pandas.core.frame.DataFrame'>\n",
            "Int64Index: 14875 entries, 0 to 14998\n",
            "Data columns (total 8 columns):\n",
            "InvoiceNo      14875 non-null object\n",
            "StockCode      14875 non-null object\n",
            "Description    14875 non-null object\n",
            "Quantity       14875 non-null int64\n",
            "InvoiceDate    14875 non-null datetime64[ns]\n",
            "UnitPrice      14875 non-null float64\n",
            "CustomerID     14875 non-null float64\n",
            "Country        14875 non-null object\n",
            "dtypes: datetime64[ns](1), float64(2), int64(1), object(4)\n",
            "memory usage: 1.0+ MB\n"
          ],
          "name": "stdout"
        }
      ]
    },
    {
      "cell_type": "code",
      "metadata": {
        "id": "RqVAURYanBso",
        "colab_type": "code",
        "outputId": "6ab15c33-0c5c-4039-f48d-78f27326adc3",
        "colab": {}
      },
      "source": [
        "os.where(os==0).count()"
      ],
      "execution_count": 0,
      "outputs": [
        {
          "output_type": "execute_result",
          "data": {
            "text/plain": [
              "InvoiceNo      0\n",
              "StockCode      0\n",
              "Description    0\n",
              "Quantity       0\n",
              "InvoiceDate    0\n",
              "UnitPrice      0\n",
              "CustomerID     0\n",
              "Country        0\n",
              "dtype: int64"
            ]
          },
          "metadata": {
            "tags": []
          },
          "execution_count": 79
        }
      ]
    },
    {
      "cell_type": "code",
      "metadata": {
        "id": "BCjWomcpnBsw",
        "colab_type": "code",
        "colab": {}
      },
      "source": [
        ""
      ],
      "execution_count": 0,
      "outputs": []
    },
    {
      "cell_type": "code",
      "metadata": {
        "id": "0WpPUyBCnBsx",
        "colab_type": "code",
        "outputId": "eebb8175-927e-4173-dc9e-4e0aa3985fa5",
        "colab": {}
      },
      "source": [
        "os['total']=os['Quantity']*os['UnitPrice']\n",
        "os.head()"
      ],
      "execution_count": 0,
      "outputs": [
        {
          "output_type": "execute_result",
          "data": {
            "text/html": [
              "<div>\n",
              "<style scoped>\n",
              "    .dataframe tbody tr th:only-of-type {\n",
              "        vertical-align: middle;\n",
              "    }\n",
              "\n",
              "    .dataframe tbody tr th {\n",
              "        vertical-align: top;\n",
              "    }\n",
              "\n",
              "    .dataframe thead th {\n",
              "        text-align: right;\n",
              "    }\n",
              "</style>\n",
              "<table border=\"1\" class=\"dataframe\">\n",
              "  <thead>\n",
              "    <tr style=\"text-align: right;\">\n",
              "      <th></th>\n",
              "      <th>InvoiceNo</th>\n",
              "      <th>StockCode</th>\n",
              "      <th>Description</th>\n",
              "      <th>Quantity</th>\n",
              "      <th>InvoiceDate</th>\n",
              "      <th>UnitPrice</th>\n",
              "      <th>CustomerID</th>\n",
              "      <th>Country</th>\n",
              "      <th>total</th>\n",
              "    </tr>\n",
              "  </thead>\n",
              "  <tbody>\n",
              "    <tr>\n",
              "      <th>0</th>\n",
              "      <td>536365</td>\n",
              "      <td>85123A</td>\n",
              "      <td>WHITE HANGING HEART T-LIGHT HOLDER</td>\n",
              "      <td>6</td>\n",
              "      <td>2010-12-01 08:26:00</td>\n",
              "      <td>2.55</td>\n",
              "      <td>17850.0</td>\n",
              "      <td>United Kingdom</td>\n",
              "      <td>15.30</td>\n",
              "    </tr>\n",
              "    <tr>\n",
              "      <th>1</th>\n",
              "      <td>536365</td>\n",
              "      <td>71053</td>\n",
              "      <td>WHITE METAL LANTERN</td>\n",
              "      <td>6</td>\n",
              "      <td>2010-12-01 08:26:00</td>\n",
              "      <td>3.39</td>\n",
              "      <td>17850.0</td>\n",
              "      <td>United Kingdom</td>\n",
              "      <td>20.34</td>\n",
              "    </tr>\n",
              "    <tr>\n",
              "      <th>2</th>\n",
              "      <td>536365</td>\n",
              "      <td>84406B</td>\n",
              "      <td>CREAM CUPID HEARTS COAT HANGER</td>\n",
              "      <td>8</td>\n",
              "      <td>2010-12-01 08:26:00</td>\n",
              "      <td>2.75</td>\n",
              "      <td>17850.0</td>\n",
              "      <td>United Kingdom</td>\n",
              "      <td>22.00</td>\n",
              "    </tr>\n",
              "    <tr>\n",
              "      <th>3</th>\n",
              "      <td>536365</td>\n",
              "      <td>84029G</td>\n",
              "      <td>KNITTED UNION FLAG HOT WATER BOTTLE</td>\n",
              "      <td>6</td>\n",
              "      <td>2010-12-01 08:26:00</td>\n",
              "      <td>3.39</td>\n",
              "      <td>17850.0</td>\n",
              "      <td>United Kingdom</td>\n",
              "      <td>20.34</td>\n",
              "    </tr>\n",
              "    <tr>\n",
              "      <th>4</th>\n",
              "      <td>536365</td>\n",
              "      <td>84029E</td>\n",
              "      <td>RED WOOLLY HOTTIE WHITE HEART.</td>\n",
              "      <td>6</td>\n",
              "      <td>2010-12-01 08:26:00</td>\n",
              "      <td>3.39</td>\n",
              "      <td>17850.0</td>\n",
              "      <td>United Kingdom</td>\n",
              "      <td>20.34</td>\n",
              "    </tr>\n",
              "  </tbody>\n",
              "</table>\n",
              "</div>"
            ],
            "text/plain": [
              "  InvoiceNo StockCode                          Description  Quantity  \\\n",
              "0    536365    85123A   WHITE HANGING HEART T-LIGHT HOLDER         6   \n",
              "1    536365     71053                  WHITE METAL LANTERN         6   \n",
              "2    536365    84406B       CREAM CUPID HEARTS COAT HANGER         8   \n",
              "3    536365    84029G  KNITTED UNION FLAG HOT WATER BOTTLE         6   \n",
              "4    536365    84029E       RED WOOLLY HOTTIE WHITE HEART.         6   \n",
              "\n",
              "          InvoiceDate  UnitPrice  CustomerID         Country  total  \n",
              "0 2010-12-01 08:26:00       2.55     17850.0  United Kingdom  15.30  \n",
              "1 2010-12-01 08:26:00       3.39     17850.0  United Kingdom  20.34  \n",
              "2 2010-12-01 08:26:00       2.75     17850.0  United Kingdom  22.00  \n",
              "3 2010-12-01 08:26:00       3.39     17850.0  United Kingdom  20.34  \n",
              "4 2010-12-01 08:26:00       3.39     17850.0  United Kingdom  20.34  "
            ]
          },
          "metadata": {
            "tags": []
          },
          "execution_count": 80
        }
      ]
    },
    {
      "cell_type": "code",
      "metadata": {
        "id": "NL4AlobanBs1",
        "colab_type": "code",
        "outputId": "23ddc902-891e-4266-81cb-e76ea9108732",
        "colab": {}
      },
      "source": [
        "os.groupby('InvoiceNo').sum().head()"
      ],
      "execution_count": 0,
      "outputs": [
        {
          "output_type": "execute_result",
          "data": {
            "text/html": [
              "<div>\n",
              "<style scoped>\n",
              "    .dataframe tbody tr th:only-of-type {\n",
              "        vertical-align: middle;\n",
              "    }\n",
              "\n",
              "    .dataframe tbody tr th {\n",
              "        vertical-align: top;\n",
              "    }\n",
              "\n",
              "    .dataframe thead th {\n",
              "        text-align: right;\n",
              "    }\n",
              "</style>\n",
              "<table border=\"1\" class=\"dataframe\">\n",
              "  <thead>\n",
              "    <tr style=\"text-align: right;\">\n",
              "      <th></th>\n",
              "      <th>Quantity</th>\n",
              "      <th>UnitPrice</th>\n",
              "      <th>CustomerID</th>\n",
              "      <th>total</th>\n",
              "    </tr>\n",
              "    <tr>\n",
              "      <th>InvoiceNo</th>\n",
              "      <th></th>\n",
              "      <th></th>\n",
              "      <th></th>\n",
              "      <th></th>\n",
              "    </tr>\n",
              "  </thead>\n",
              "  <tbody>\n",
              "    <tr>\n",
              "      <th>536365</th>\n",
              "      <td>40</td>\n",
              "      <td>27.37</td>\n",
              "      <td>124950.0</td>\n",
              "      <td>139.12</td>\n",
              "    </tr>\n",
              "    <tr>\n",
              "      <th>536366</th>\n",
              "      <td>12</td>\n",
              "      <td>3.70</td>\n",
              "      <td>35700.0</td>\n",
              "      <td>22.20</td>\n",
              "    </tr>\n",
              "    <tr>\n",
              "      <th>536367</th>\n",
              "      <td>83</td>\n",
              "      <td>58.24</td>\n",
              "      <td>156564.0</td>\n",
              "      <td>278.73</td>\n",
              "    </tr>\n",
              "    <tr>\n",
              "      <th>536368</th>\n",
              "      <td>15</td>\n",
              "      <td>19.10</td>\n",
              "      <td>52188.0</td>\n",
              "      <td>70.05</td>\n",
              "    </tr>\n",
              "    <tr>\n",
              "      <th>536369</th>\n",
              "      <td>3</td>\n",
              "      <td>5.95</td>\n",
              "      <td>13047.0</td>\n",
              "      <td>17.85</td>\n",
              "    </tr>\n",
              "  </tbody>\n",
              "</table>\n",
              "</div>"
            ],
            "text/plain": [
              "           Quantity  UnitPrice  CustomerID   total\n",
              "InvoiceNo                                         \n",
              "536365           40      27.37    124950.0  139.12\n",
              "536366           12       3.70     35700.0   22.20\n",
              "536367           83      58.24    156564.0  278.73\n",
              "536368           15      19.10     52188.0   70.05\n",
              "536369            3       5.95     13047.0   17.85"
            ]
          },
          "metadata": {
            "tags": []
          },
          "execution_count": 81
        }
      ]
    },
    {
      "cell_type": "code",
      "metadata": {
        "id": "_wNF249TnBs_",
        "colab_type": "code",
        "colab": {}
      },
      "source": [
        "from sklearn.preprocessing import LabelEncoder\n",
        "le=LabelEncoder()\n",
        "le.fit(os['Country'])\n",
        "os['Country']=le.transform(os['Country'])"
      ],
      "execution_count": 0,
      "outputs": []
    },
    {
      "cell_type": "code",
      "metadata": {
        "id": "tyaJrEkBnBtB",
        "colab_type": "code",
        "colab": {}
      },
      "source": [
        "from sklearn.preprocessing import LabelEncoder\n",
        "le=LabelEncoder()\n",
        "le.fit(os['Description'])\n",
        "os['Description']=le.transform(os['Description'])"
      ],
      "execution_count": 0,
      "outputs": []
    },
    {
      "cell_type": "code",
      "metadata": {
        "id": "vtMgFC_2nBtH",
        "colab_type": "code",
        "outputId": "35265e7f-3847-4e35-ce10-a3daaf4627b0",
        "colab": {}
      },
      "source": [
        "os.info()"
      ],
      "execution_count": 0,
      "outputs": [
        {
          "output_type": "stream",
          "text": [
            "<class 'pandas.core.frame.DataFrame'>\n",
            "Int64Index: 14875 entries, 0 to 14998\n",
            "Data columns (total 9 columns):\n",
            "InvoiceNo      14875 non-null object\n",
            "StockCode      14875 non-null object\n",
            "Description    14875 non-null int32\n",
            "Quantity       14875 non-null int64\n",
            "InvoiceDate    14875 non-null datetime64[ns]\n",
            "UnitPrice      14875 non-null float64\n",
            "CustomerID     14875 non-null float64\n",
            "Country        14875 non-null int32\n",
            "total          14875 non-null float64\n",
            "dtypes: datetime64[ns](1), float64(3), int32(2), int64(1), object(2)\n",
            "memory usage: 1.0+ MB\n"
          ],
          "name": "stdout"
        }
      ]
    },
    {
      "cell_type": "code",
      "metadata": {
        "id": "Bs0Mi0SLnBtO",
        "colab_type": "code",
        "outputId": "3ea6709d-22a7-468b-fbc8-8547bce3c0a7",
        "colab": {}
      },
      "source": [
        "os.isnull().sum()"
      ],
      "execution_count": 0,
      "outputs": [
        {
          "output_type": "execute_result",
          "data": {
            "text/plain": [
              "InvoiceNo      0\n",
              "StockCode      0\n",
              "Description    0\n",
              "Quantity       0\n",
              "InvoiceDate    0\n",
              "UnitPrice      0\n",
              "CustomerID     0\n",
              "Country        0\n",
              "total          0\n",
              "dtype: int64"
            ]
          },
          "metadata": {
            "tags": []
          },
          "execution_count": 85
        }
      ]
    },
    {
      "cell_type": "code",
      "metadata": {
        "id": "G8xtvfe4nBtc",
        "colab_type": "code",
        "colab": {}
      },
      "source": [
        "num=os.select_dtypes(include=['int64','float64']).columns\n",
        "number=pd.DataFrame()\n",
        "number=num\n"
      ],
      "execution_count": 0,
      "outputs": []
    },
    {
      "cell_type": "code",
      "metadata": {
        "id": "ZX1N0dJknBte",
        "colab_type": "code",
        "colab": {}
      },
      "source": [
        "from sklearn.decomposition import PCA"
      ],
      "execution_count": 0,
      "outputs": []
    },
    {
      "cell_type": "code",
      "metadata": {
        "id": "aTJUFvd1nBtu",
        "colab_type": "code",
        "outputId": "1968d960-3588-4c7b-9a91-8f588cc02ca1",
        "colab": {}
      },
      "source": [
        "os.info()"
      ],
      "execution_count": 0,
      "outputs": [
        {
          "output_type": "stream",
          "text": [
            "<class 'pandas.core.frame.DataFrame'>\n",
            "Int64Index: 14875 entries, 0 to 14998\n",
            "Data columns (total 9 columns):\n",
            "InvoiceNo      14875 non-null object\n",
            "StockCode      14875 non-null object\n",
            "Description    14875 non-null int32\n",
            "Quantity       14875 non-null int64\n",
            "InvoiceDate    14875 non-null datetime64[ns]\n",
            "UnitPrice      14875 non-null float64\n",
            "CustomerID     14875 non-null float64\n",
            "Country        14875 non-null int32\n",
            "total          14875 non-null float64\n",
            "dtypes: datetime64[ns](1), float64(3), int32(2), int64(1), object(2)\n",
            "memory usage: 1.0+ MB\n"
          ],
          "name": "stdout"
        }
      ]
    },
    {
      "cell_type": "code",
      "metadata": {
        "id": "kzczxxBVnBtx",
        "colab_type": "code",
        "colab": {}
      },
      "source": [
        "x=os[['InvoiceNo','Description','Quantity','UnitPrice','Country','total']]\n"
      ],
      "execution_count": 0,
      "outputs": []
    },
    {
      "cell_type": "code",
      "metadata": {
        "id": "7mEO7HXsnBtx",
        "colab_type": "code",
        "outputId": "68f1e39f-d4df-4140-c5d7-0c645d75d84e",
        "colab": {}
      },
      "source": [
        "pca=PCA(0.95)\n",
        "x_new=pca.fit_transform(x)\n",
        "x_new.shape"
      ],
      "execution_count": 0,
      "outputs": [
        {
          "output_type": "execute_result",
          "data": {
            "text/plain": [
              "(14875, 2)"
            ]
          },
          "metadata": {
            "tags": []
          },
          "execution_count": 97
        }
      ]
    },
    {
      "cell_type": "code",
      "metadata": {
        "id": "oVkWlRPqnBtz",
        "colab_type": "code",
        "colab": {}
      },
      "source": [
        "from sklearn.cluster import KMeans"
      ],
      "execution_count": 0,
      "outputs": []
    },
    {
      "cell_type": "code",
      "metadata": {
        "id": "JXDn0R1VnBt7",
        "colab_type": "code",
        "outputId": "8c95adb3-f3ee-4dc0-b72c-b99b72890904",
        "colab": {}
      },
      "source": [
        "kmeans = KMeans(n_clusters=2)\n",
        "kmeans.fit(x_new)"
      ],
      "execution_count": 0,
      "outputs": [
        {
          "output_type": "execute_result",
          "data": {
            "text/plain": [
              "KMeans(algorithm='auto', copy_x=True, init='k-means++', max_iter=300,\n",
              "    n_clusters=2, n_init=10, n_jobs=None, precompute_distances='auto',\n",
              "    random_state=None, tol=0.0001, verbose=0)"
            ]
          },
          "metadata": {
            "tags": []
          },
          "execution_count": 51
        }
      ]
    },
    {
      "cell_type": "code",
      "metadata": {
        "id": "0W4FNv2HnBt-",
        "colab_type": "code",
        "outputId": "112533ed-162d-4423-b002-23fb3773da3e",
        "colab": {}
      },
      "source": [
        "kmeans.cluster_centers_"
      ],
      "execution_count": 0,
      "outputs": [
        {
          "output_type": "execute_result",
          "data": {
            "text/plain": [
              "array([[ 503.98315156,    0.94775678],\n",
              "       [-566.98104551,   -1.06622638]])"
            ]
          },
          "metadata": {
            "tags": []
          },
          "execution_count": 52
        }
      ]
    },
    {
      "cell_type": "code",
      "metadata": {
        "id": "zBw0flKgnBuA",
        "colab_type": "code",
        "colab": {}
      },
      "source": [
        ""
      ],
      "execution_count": 0,
      "outputs": []
    },
    {
      "cell_type": "code",
      "metadata": {
        "id": "hCo-7KSHnBuG",
        "colab_type": "code",
        "outputId": "1484c22c-e135-4028-a9d5-f04f3b2ebd94",
        "colab": {}
      },
      "source": [
        "print (kmeans.labels_)\n",
        "print (len(kmeans.labels_))"
      ],
      "execution_count": 0,
      "outputs": [
        {
          "output_type": "stream",
          "text": [
            "[1 1 0 ... 0 0 0]\n",
            "14875\n"
          ],
          "name": "stdout"
        }
      ]
    },
    {
      "cell_type": "code",
      "metadata": {
        "id": "qwjPtVlknBuG",
        "colab_type": "code",
        "outputId": "e4f1fd4c-5f49-4165-a139-09f7a1c530a9",
        "colab": {}
      },
      "source": [
        "print (type(kmeans.labels_))\n",
        "unique, counts = np.unique(kmeans.labels_, return_counts=True)\n",
        "print(dict(zip(unique, counts)))"
      ],
      "execution_count": 0,
      "outputs": [
        {
          "output_type": "stream",
          "text": [
            "<class 'numpy.ndarray'>\n",
            "{0: 7866, 1: 7009}\n"
          ],
          "name": "stdout"
        }
      ]
    },
    {
      "cell_type": "code",
      "metadata": {
        "id": "d9GvNh5xnBuG",
        "colab_type": "code",
        "colab": {}
      },
      "source": [
        ""
      ],
      "execution_count": 0,
      "outputs": []
    },
    {
      "cell_type": "code",
      "metadata": {
        "id": "BN02aXO6nBuG",
        "colab_type": "code",
        "outputId": "9997ab24-de44-40bc-ed8b-09cddf43d866",
        "colab": {}
      },
      "source": [
        "os['cluster'] = kmeans.labels_\n",
        "sns.set_style('whitegrid')\n",
        "sns.lmplot('CustomerID','Quantity',data=os, hue='cluster',\n",
        "           palette='coolwarm',size=6,aspect=1,fit_reg=False)"
      ],
      "execution_count": 0,
      "outputs": [
        {
          "output_type": "execute_result",
          "data": {
            "text/plain": [
              "<seaborn.axisgrid.FacetGrid at 0x2ba66de5898>"
            ]
          },
          "metadata": {
            "tags": []
          },
          "execution_count": 55
        },
        {
          "output_type": "display_data",
          "data": {
            "image/png": "[encoded data removed]",
            "text/plain": [
              "<Figure size 473.625x432 with 1 Axes>"
            ]
          },
          "metadata": {
            "tags": []
          }
        }
      ]
    },
    {
      "cell_type": "code",
      "metadata": {
        "id": "45OviL4VnBuG",
        "colab_type": "code",
        "colab": {}
      },
      "source": [
        ""
      ],
      "execution_count": 0,
      "outputs": []
    }
  ]
}